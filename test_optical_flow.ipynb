{
 "cells": [
  {
   "cell_type": "code",
   "execution_count": 1,
   "metadata": {},
   "outputs": [],
   "source": [
    "import sys\n",
    "# sys.path.append('/home/ubuntu/Workspace/utils/FishFeeding')\n",
    "from utils.video_preprocess import resize_video"
   ]
  },
  {
   "cell_type": "code",
   "execution_count": 1,
   "metadata": {},
   "outputs": [],
   "source": [
    "import cv2\n",
    "cap = cv2.VideoCapture('/Users/liuziyi/Desktop/220731_170753__220731_173752_clip_2.mp4')\n",
    "# for i in range(10):\n",
    "while(True):\n",
    "    check, img = cap.read()\n",
    "    # print(frame)\n",
    "    # print(check)\n",
    "    if check:\n",
    "        # hsv = cv2.cvtColor(img, cv2.COLOR_BGR2HSV)\n",
    "        # cv2.imshow(\"h\", hsv[:, :, 0])\n",
    "        # cv2.imshow(\"s\", hsv[:, :, 1])\n",
    "        # cv2.imshow(\"v\", hsv[:, :, 2])\n",
    "        # yuv = cv2.cvtColor(img, cv2.COLOR_BGR2YUV)\n",
    "        # cv2.imshow(\"y\", yuv[:, :, 0])\n",
    "        # cv2.imshow(\"u\", yuv[:, :, 1])\n",
    "        # cv2.imshow(\"v\", yuv[:, :, 2])\n",
    "        # lab = cv2.cvtColor(img, cv2.COLOR_BGR2Lab)\n",
    "        # cv2.imshow(\"l\", lab[:, :, 0])\n",
    "        # cv2.imshow(\"a\", lab[:, :, 1])\n",
    "        # cv2.imshow(\"b\", lab[:, :, 2])\n",
    "\n",
    "        # cv2.imshow(\"u - s\", yuv[:, :, 1] - hsv[:, :, 1])\n",
    "        cv2.imshow(\"cropped\", img[100:700, :, 0])\n",
    "        key = cv2.waitKey(30)\n",
    "        if key >= 0:\n",
    "            cv2.waitKey(0)\n",
    "    else:\n",
    "        break\n",
    "    # if cv2.waitKey(75) & 0xFF == ord('q'):\n",
    "    #     break\n",
    "\n",
    "# Close the window / Release webcam\n",
    "cap.release()\n",
    "  \n",
    "# After we release our webcam, we also release the out-out.release() \n",
    "  \n",
    "# De-allocate any associated memory usage \n",
    "cv2.destroyAllWindows()"
   ]
  },
  {
   "cell_type": "code",
   "execution_count": 1,
   "metadata": {},
   "outputs": [
    {
     "name": "stdout",
     "output_type": "stream",
     "text": [
      "load checkpoint from local path: /home/ubuntu/Workspace/mmflow/demo/pwcnet_ft_4x1_300k_sintel_final_384x768.pth\n"
     ]
    },
    {
     "ename": "error",
     "evalue": "OpenCV(4.5.5) /io/opencv/modules/core/src/arithm.cpp:647: error: (-209:Sizes of input arguments do not match) The operation is neither 'array op array' (where arrays have the same size and the same number of channels), nor 'array op scalar', nor 'scalar op array' in function 'arithm_op'\n",
     "output_type": "error",
     "traceback": [
      "\u001b[0;31m---------------------------------------------------------------------------\u001b[0m",
      "\u001b[0;31merror\u001b[0m                                     Traceback (most recent call last)",
      "\u001b[1;32m/home/ubuntu/Workspace/FishFeeding/test_optical_flow.ipynb Cell 3\u001b[0m in \u001b[0;36m<cell line: 29>\u001b[0;34m()\u001b[0m\n\u001b[1;32m     <a href='vscode-notebook-cell://ssh-remote%2B7b22686f73744e616d65223a223130362e37352e3130312e313331222c2275736572223a227562756e7475227d/home/ubuntu/Workspace/FishFeeding/test_optical_flow.ipynb#W2sdnNjb2RlLXJlbW90ZQ%3D%3D?line=34'>35</a>\u001b[0m     \u001b[39mbreak\u001b[39;00m\n\u001b[1;32m     <a href='vscode-notebook-cell://ssh-remote%2B7b22686f73744e616d65223a223130362e37352e3130312e313331222c2275736572223a227562756e7475227d/home/ubuntu/Workspace/FishFeeding/test_optical_flow.ipynb#W2sdnNjb2RlLXJlbW90ZQ%3D%3D?line=36'>37</a>\u001b[0m \u001b[39m# i += 1\u001b[39;00m\n\u001b[1;32m     <a href='vscode-notebook-cell://ssh-remote%2B7b22686f73744e616d65223a223130362e37352e3130312e313331222c2275736572223a227562756e7475227d/home/ubuntu/Workspace/FishFeeding/test_optical_flow.ipynb#W2sdnNjb2RlLXJlbW90ZQ%3D%3D?line=37'>38</a>\u001b[0m \u001b[39m# if i > 10:\u001b[39;00m\n\u001b[1;32m     <a href='vscode-notebook-cell://ssh-remote%2B7b22686f73744e616d65223a223130362e37352e3130312e313331222c2275736572223a227562756e7475227d/home/ubuntu/Workspace/FishFeeding/test_optical_flow.ipynb#W2sdnNjb2RlLXJlbW90ZQ%3D%3D?line=38'>39</a>\u001b[0m \u001b[39m#     cap.release()\u001b[39;00m\n\u001b[1;32m     <a href='vscode-notebook-cell://ssh-remote%2B7b22686f73744e616d65223a223130362e37352e3130312e313331222c2275736572223a227562756e7475227d/home/ubuntu/Workspace/FishFeeding/test_optical_flow.ipynb#W2sdnNjb2RlLXJlbW90ZQ%3D%3D?line=39'>40</a>\u001b[0m \u001b[39m#     break\u001b[39;00m\n\u001b[0;32m---> <a href='vscode-notebook-cell://ssh-remote%2B7b22686f73744e616d65223a223130362e37352e3130312e313331222c2275736572223a227562756e7475227d/home/ubuntu/Workspace/FishFeeding/test_optical_flow.ipynb#W2sdnNjb2RlLXJlbW90ZQ%3D%3D?line=41'>42</a>\u001b[0m result \u001b[39m=\u001b[39m inference_model(model, img1[\u001b[39m100\u001b[39;49m:\u001b[39m700\u001b[39;49m, :, \u001b[39m0\u001b[39;49m], img2[\u001b[39m100\u001b[39;49m:\u001b[39m700\u001b[39;49m, :, \u001b[39m0\u001b[39;49m])\n\u001b[1;32m     <a href='vscode-notebook-cell://ssh-remote%2B7b22686f73744e616d65223a223130362e37352e3130312e313331222c2275736572223a227562756e7475227d/home/ubuntu/Workspace/FishFeeding/test_optical_flow.ipynb#W2sdnNjb2RlLXJlbW90ZQ%3D%3D?line=42'>43</a>\u001b[0m r\u001b[39m.\u001b[39mappend(np\u001b[39m.\u001b[39msum(np\u001b[39m.\u001b[39msqrt(np\u001b[39m.\u001b[39mpower(result[:, :, \u001b[39m0\u001b[39m], \u001b[39m2\u001b[39m) \u001b[39m+\u001b[39m np\u001b[39m.\u001b[39mpower(result[:, :, \u001b[39m1\u001b[39m], \u001b[39m2\u001b[39m))))\n\u001b[1;32m     <a href='vscode-notebook-cell://ssh-remote%2B7b22686f73744e616d65223a223130362e37352e3130312e313331222c2275736572223a227562756e7475227d/home/ubuntu/Workspace/FishFeeding/test_optical_flow.ipynb#W2sdnNjb2RlLXJlbW90ZQ%3D%3D?line=43'>44</a>\u001b[0m \u001b[39m# np.sqrt(np.power(result[:, :, 0], 2) + np.power(result[:, :, 1], 2))\u001b[39;00m\n\u001b[1;32m     <a href='vscode-notebook-cell://ssh-remote%2B7b22686f73744e616d65223a223130362e37352e3130312e313331222c2275736572223a227562756e7475227d/home/ubuntu/Workspace/FishFeeding/test_optical_flow.ipynb#W2sdnNjb2RlLXJlbW90ZQ%3D%3D?line=44'>45</a>\u001b[0m \u001b[39m# print('result.shape = ', result[::0].shape)\u001b[39;00m\n\u001b[1;32m     <a href='vscode-notebook-cell://ssh-remote%2B7b22686f73744e616d65223a223130362e37352e3130312e313331222c2275736572223a227562756e7475227d/home/ubuntu/Workspace/FishFeeding/test_optical_flow.ipynb#W2sdnNjb2RlLXJlbW90ZQ%3D%3D?line=45'>46</a>\u001b[0m \u001b[39m# flow_map = visualize_flow(result, None)\u001b[39;00m\n\u001b[0;32m   (...)\u001b[0m\n\u001b[1;32m     <a href='vscode-notebook-cell://ssh-remote%2B7b22686f73744e616d65223a223130362e37352e3130312e313331222c2275736572223a227562756e7475227d/home/ubuntu/Workspace/FishFeeding/test_optical_flow.ipynb#W2sdnNjb2RlLXJlbW90ZQ%3D%3D?line=48'>49</a>\u001b[0m \n\u001b[1;32m     <a href='vscode-notebook-cell://ssh-remote%2B7b22686f73744e616d65223a223130362e37352e3130312e313331222c2275736572223a227562756e7475227d/home/ubuntu/Workspace/FishFeeding/test_optical_flow.ipynb#W2sdnNjb2RlLXJlbW90ZQ%3D%3D?line=49'>50</a>\u001b[0m \u001b[39m# imgs.append(img)\u001b[39;00m\n",
      "File \u001b[0;32m~/Workspace/mmflow/mmflow/apis/inference.py:131\u001b[0m, in \u001b[0;36minference_model\u001b[0;34m(model, img1s, img2s, valids)\u001b[0m\n\u001b[1;32m    129\u001b[0m data[\u001b[39m'\u001b[39m\u001b[39mimg_fields\u001b[39m\u001b[39m'\u001b[39m] \u001b[39m=\u001b[39m [\u001b[39m'\u001b[39m\u001b[39mimg1\u001b[39m\u001b[39m'\u001b[39m, \u001b[39m'\u001b[39m\u001b[39mimg2\u001b[39m\u001b[39m'\u001b[39m]\n\u001b[1;32m    130\u001b[0m \u001b[39m# build the data pipeline\u001b[39;00m\n\u001b[0;32m--> 131\u001b[0m data \u001b[39m=\u001b[39m test_pipeline(data)\n\u001b[1;32m    132\u001b[0m datas\u001b[39m.\u001b[39mappend(data)\n\u001b[1;32m    133\u001b[0m valid_masks\u001b[39m.\u001b[39mappend(valid)\n",
      "File \u001b[0;32m~/Workspace/mmflow/mmflow/datasets/pipelines/compose.py:42\u001b[0m, in \u001b[0;36mCompose.__call__\u001b[0;34m(self, data)\u001b[0m\n\u001b[1;32m     32\u001b[0m \u001b[39m\"\"\"Call function to apply transforms sequentially.\u001b[39;00m\n\u001b[1;32m     33\u001b[0m \n\u001b[1;32m     34\u001b[0m \u001b[39mArgs:\u001b[39;00m\n\u001b[0;32m   (...)\u001b[0m\n\u001b[1;32m     38\u001b[0m \u001b[39m   dict: Transformed data.\u001b[39;00m\n\u001b[1;32m     39\u001b[0m \u001b[39m\"\"\"\u001b[39;00m\n\u001b[1;32m     41\u001b[0m \u001b[39mfor\u001b[39;00m t \u001b[39min\u001b[39;00m \u001b[39mself\u001b[39m\u001b[39m.\u001b[39mtransforms:\n\u001b[0;32m---> 42\u001b[0m     data \u001b[39m=\u001b[39m t(data)\n\u001b[1;32m     43\u001b[0m     \u001b[39mif\u001b[39;00m data \u001b[39mis\u001b[39;00m \u001b[39mNone\u001b[39;00m:\n\u001b[1;32m     44\u001b[0m         \u001b[39mreturn\u001b[39;00m \u001b[39mNone\u001b[39;00m\n",
      "File \u001b[0;32m~/Workspace/mmflow/mmflow/datasets/pipelines/transforms.py:615\u001b[0m, in \u001b[0;36mNormalize.__call__\u001b[0;34m(self, results)\u001b[0m\n\u001b[1;32m    613\u001b[0m img_keys \u001b[39m=\u001b[39m get_img_keys(results)\n\u001b[1;32m    614\u001b[0m \u001b[39mfor\u001b[39;00m k \u001b[39min\u001b[39;00m img_keys:\n\u001b[0;32m--> 615\u001b[0m     results[k] \u001b[39m=\u001b[39m mmcv\u001b[39m.\u001b[39;49mimnormalize(results[k], \u001b[39mself\u001b[39;49m\u001b[39m.\u001b[39;49mmean, \u001b[39mself\u001b[39;49m\u001b[39m.\u001b[39;49mstd,\n\u001b[1;32m    616\u001b[0m                                   \u001b[39mself\u001b[39;49m\u001b[39m.\u001b[39;49mto_rgb)\n\u001b[1;32m    617\u001b[0m results[\u001b[39m'\u001b[39m\u001b[39mimg_norm_cfg\u001b[39m\u001b[39m'\u001b[39m] \u001b[39m=\u001b[39m \u001b[39mdict\u001b[39m(\n\u001b[1;32m    618\u001b[0m     mean\u001b[39m=\u001b[39m\u001b[39mself\u001b[39m\u001b[39m.\u001b[39mmean, std\u001b[39m=\u001b[39m\u001b[39mself\u001b[39m\u001b[39m.\u001b[39mstd, to_rgb\u001b[39m=\u001b[39m\u001b[39mself\u001b[39m\u001b[39m.\u001b[39mto_rgb)\n\u001b[1;32m    619\u001b[0m \u001b[39mif\u001b[39;00m \u001b[39mself\u001b[39m\u001b[39m.\u001b[39mto_rgb:\n",
      "File \u001b[0;32m~/.conda/envs/openmmlab/lib/python3.9/site-packages/mmcv/image/photometric.py:22\u001b[0m, in \u001b[0;36mimnormalize\u001b[0;34m(img, mean, std, to_rgb)\u001b[0m\n\u001b[1;32m     10\u001b[0m \u001b[39m\"\"\"Normalize an image with mean and std.\u001b[39;00m\n\u001b[1;32m     11\u001b[0m \n\u001b[1;32m     12\u001b[0m \u001b[39mArgs:\u001b[39;00m\n\u001b[0;32m   (...)\u001b[0m\n\u001b[1;32m     19\u001b[0m \u001b[39m    ndarray: The normalized image.\u001b[39;00m\n\u001b[1;32m     20\u001b[0m \u001b[39m\"\"\"\u001b[39;00m\n\u001b[1;32m     21\u001b[0m img \u001b[39m=\u001b[39m img\u001b[39m.\u001b[39mcopy()\u001b[39m.\u001b[39mastype(np\u001b[39m.\u001b[39mfloat32)\n\u001b[0;32m---> 22\u001b[0m \u001b[39mreturn\u001b[39;00m imnormalize_(img, mean, std, to_rgb)\n",
      "File \u001b[0;32m~/.conda/envs/openmmlab/lib/python3.9/site-packages/mmcv/image/photometric.py:43\u001b[0m, in \u001b[0;36mimnormalize_\u001b[0;34m(img, mean, std, to_rgb)\u001b[0m\n\u001b[1;32m     41\u001b[0m \u001b[39mif\u001b[39;00m to_rgb:\n\u001b[1;32m     42\u001b[0m     cv2\u001b[39m.\u001b[39mcvtColor(img, cv2\u001b[39m.\u001b[39mCOLOR_BGR2RGB, img)  \u001b[39m# inplace\u001b[39;00m\n\u001b[0;32m---> 43\u001b[0m cv2\u001b[39m.\u001b[39;49msubtract(img, mean, img)  \u001b[39m# inplace\u001b[39;00m\n\u001b[1;32m     44\u001b[0m cv2\u001b[39m.\u001b[39mmultiply(img, stdinv, img)  \u001b[39m# inplace\u001b[39;00m\n\u001b[1;32m     45\u001b[0m \u001b[39mreturn\u001b[39;00m img\n",
      "\u001b[0;31merror\u001b[0m: OpenCV(4.5.5) /io/opencv/modules/core/src/arithm.cpp:647: error: (-209:Sizes of input arguments do not match) The operation is neither 'array op array' (where arrays have the same size and the same number of channels), nor 'array op scalar', nor 'scalar op array' in function 'arithm_op'\n"
     ]
    }
   ],
   "source": [
    "from argparse import ArgumentParser\n",
    "from typing import Sequence\n",
    "\n",
    "import cv2\n",
    "import numpy as np\n",
    "from numpy import ndarray\n",
    "\n",
    "from mmflow.apis import inference_model, init_model\n",
    "from mmflow.datasets import visualize_flow\n",
    "\n",
    "try:\n",
    "    import imageio\n",
    "except ImportError:\n",
    "    imageio = None\n",
    "\n",
    "# build the model from a config file and a checkpoint file\n",
    "model = init_model('/home/ubuntu/Workspace/mmflow/configs/pwcnet/pwcnet_ft_4x1_300k_sintel_final_384x768.py', '/home/ubuntu/Workspace/mmflow/demo/pwcnet_ft_4x1_300k_sintel_final_384x768.pth', device='cuda:0')\n",
    "# load video\n",
    "cap = cv2.VideoCapture('/home/ubuntu/Workspace/mmflow/demo/220731_170753__220731_173752_clip.mp4')\n",
    "# assert cap.isOpened(), f'Failed to load video file {args.video}'\n",
    "# get video info\n",
    "size = (int(cap.get(cv2.CAP_PROP_FRAME_WIDTH)),\n",
    "        int(cap.get(cv2.CAP_PROP_FRAME_HEIGHT)))\n",
    "fps = cap.get(cv2.CAP_PROP_FPS)\n",
    "fourcc = cv2.VideoWriter_fourcc(*'mp4v')\n",
    "\n",
    "i = 0\n",
    "r = []\n",
    "while (cap.isOpened()):\n",
    "    # Get frames\n",
    "    flag1, img1 = cap.read()\n",
    "    flag2, img2 = cap.read()\n",
    "\n",
    "    if not flag2:\n",
    "        break\n",
    "    \n",
    "    # i += 1\n",
    "    # if i > 10:\n",
    "    #     cap.release()\n",
    "    #     break\n",
    "    \n",
    "    result = inference_model(model, img1[100:700, :, :], img2[100:700, :, :])\n",
    "    r.append(np.sum(np.sqrt(np.power(result[:, :, 0], 2) + np.power(result[:, :, 1], 2))))\n",
    "    # np.sqrt(np.power(result[:, :, 0], 2) + np.power(result[:, :, 1], 2))\n",
    "    # print('result.shape = ', result[::0].shape)\n",
    "    # flow_map = visualize_flow(result, None)\n",
    "    # flow_map = cv2.cvtColor(flow_map, cv2.COLOR_RGB2BGR)\n",
    "    # frame = flow_map\n",
    "\n",
    "    # imgs.append(img)\n",
    "cap.release()"
   ]
  },
  {
   "cell_type": "code",
   "execution_count": null,
   "metadata": {},
   "outputs": [],
   "source": []
  }
 ],
 "metadata": {
  "kernelspec": {
   "display_name": "Python 3.9.12 ('openmmlab': conda)",
   "language": "python",
   "name": "python3"
  },
  "language_info": {
   "codemirror_mode": {
    "name": "ipython",
    "version": 3
   },
   "file_extension": ".py",
   "mimetype": "text/x-python",
   "name": "python",
   "nbconvert_exporter": "python",
   "pygments_lexer": "ipython3",
   "version": "3.9.12"
  },
  "orig_nbformat": 4,
  "vscode": {
   "interpreter": {
    "hash": "204f9ee73a72fa6c91a7c8ab82ae4d72cb37c9f998d6a866f7b9cdff301abeab"
   }
  }
 },
 "nbformat": 4,
 "nbformat_minor": 2
}
