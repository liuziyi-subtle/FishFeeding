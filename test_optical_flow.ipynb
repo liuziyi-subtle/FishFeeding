{
 "cells": [
  {
   "cell_type": "code",
   "execution_count": 1,
   "metadata": {},
   "outputs": [],
   "source": [
    "import sys\n",
    "# sys.path.append('/home/ubuntu/Workspace/utils/FishFeeding')\n",
    "from utils.video_preprocess import resize_video"
   ]
  },
  {
   "cell_type": "code",
   "execution_count": 1,
   "metadata": {},
   "outputs": [],
   "source": [
    "import cv2\n",
    "cap = cv2.VideoCapture('/Users/liuziyi/Desktop/220731_170753__220731_173752_clip_2.mp4')\n",
    "# for i in range(10):\n",
    "while(True):\n",
    "    check, img = cap.read()\n",
    "    # print(frame)\n",
    "    # print(check)\n",
    "    if check:\n",
    "        # hsv = cv2.cvtColor(img, cv2.COLOR_BGR2HSV)\n",
    "        # cv2.imshow(\"h\", hsv[:, :, 0])\n",
    "        # cv2.imshow(\"s\", hsv[:, :, 1])\n",
    "        # cv2.imshow(\"v\", hsv[:, :, 2])\n",
    "        # yuv = cv2.cvtColor(img, cv2.COLOR_BGR2YUV)\n",
    "        # cv2.imshow(\"y\", yuv[:, :, 0])\n",
    "        # cv2.imshow(\"u\", yuv[:, :, 1])\n",
    "        # cv2.imshow(\"v\", yuv[:, :, 2])\n",
    "        # lab = cv2.cvtColor(img, cv2.COLOR_BGR2Lab)\n",
    "        # cv2.imshow(\"l\", lab[:, :, 0])\n",
    "        # cv2.imshow(\"a\", lab[:, :, 1])\n",
    "        # cv2.imshow(\"b\", lab[:, :, 2])\n",
    "\n",
    "        # cv2.imshow(\"u - s\", yuv[:, :, 1] - hsv[:, :, 1])\n",
    "        cv2.imshow(\"cropped\", img[100:700, :, 0])\n",
    "        key = cv2.waitKey(30)\n",
    "        if key >= 0:\n",
    "            cv2.waitKey(0)\n",
    "    else:\n",
    "        break\n",
    "    # if cv2.waitKey(75) & 0xFF == ord('q'):\n",
    "    #     break\n",
    "\n",
    "# Close the window / Release webcam\n",
    "cap.release()\n",
    "  \n",
    "# After we release our webcam, we also release the out-out.release() \n",
    "  \n",
    "# De-allocate any associated memory usage \n",
    "cv2.destroyAllWindows()"
   ]
  },
  {
   "cell_type": "code",
   "execution_count": 3,
   "metadata": {},
   "outputs": [
    {
     "ename": "",
     "evalue": "",
     "output_type": "error",
     "traceback": [
      "The Kernel crashed while executing code in the the current cell or a previous cell. Please review the code in the cell(s) to identify a possible cause of the failure. Click <a href='https://aka.ms/vscodeJupyterKernelCrash'>here</a> for more info. View Jupyter <a href='command:jupyter.viewOutput'>log</a> for further details."
     ]
    }
   ],
   "source": [
    "# Close the window / Release webcam\n",
    "cap.release()\n",
    "  \n",
    "# After we release our webcam, we also release the out-out.release() \n",
    "  \n",
    "# De-allocate any associated memory usage \n",
    "cv2.destroyAllWindows()"
   ]
  },
  {
   "cell_type": "code",
   "execution_count": null,
   "metadata": {},
   "outputs": [],
   "source": []
  }
 ],
 "metadata": {
  "kernelspec": {
   "display_name": "Python 3.9.12 ('envmac-py39')",
   "language": "python",
   "name": "python3"
  },
  "language_info": {
   "codemirror_mode": {
    "name": "ipython",
    "version": 3
   },
   "file_extension": ".py",
   "mimetype": "text/x-python",
   "name": "python",
   "nbconvert_exporter": "python",
   "pygments_lexer": "ipython3",
   "version": "3.9.12"
  },
  "orig_nbformat": 4,
  "vscode": {
   "interpreter": {
    "hash": "1f4558185b73c6b540cb3da33494d57d0cd27489ce3a500e0df969c73f1fc133"
   }
  }
 },
 "nbformat": 4,
 "nbformat_minor": 2
}
